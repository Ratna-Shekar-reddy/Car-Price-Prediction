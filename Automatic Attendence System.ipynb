{
 "cells": [
  {
   "cell_type": "code",
   "execution_count": 1,
   "id": "3f7bd521",
   "metadata": {},
   "outputs": [
    {
     "ename": "ModuleNotFoundError",
     "evalue": "No module named 'face_recognition'",
     "output_type": "error",
     "traceback": [
      "\u001b[1;31m---------------------------------------------------------------------------\u001b[0m",
      "\u001b[1;31mModuleNotFoundError\u001b[0m                       Traceback (most recent call last)",
      "Cell \u001b[1;32mIn[1], line 2\u001b[0m\n\u001b[0;32m      1\u001b[0m \u001b[38;5;28;01mimport\u001b[39;00m \u001b[38;5;21;01mcv2\u001b[39;00m\n\u001b[1;32m----> 2\u001b[0m \u001b[38;5;28;01mimport\u001b[39;00m \u001b[38;5;21;01mface_recognition\u001b[39;00m\n\u001b[0;32m      3\u001b[0m \u001b[38;5;28;01mimport\u001b[39;00m \u001b[38;5;21;01mnumpy\u001b[39;00m \u001b[38;5;28;01mas\u001b[39;00m \u001b[38;5;21;01mnp\u001b[39;00m\n\u001b[0;32m      4\u001b[0m \u001b[38;5;28;01mimport\u001b[39;00m \u001b[38;5;21;01mos\u001b[39;00m\n",
      "\u001b[1;31mModuleNotFoundError\u001b[0m: No module named 'face_recognition'"
     ]
    }
   ],
   "source": [
    "import cv2\n",
    "import face_recognition\n",
    "import numpy as np\n",
    "import os\n",
    "from datetime import datetime \n",
    "import pandas as pd\n",
    "import csv\n",
    "\n",
    "\n",
    "now=datetime.now()\n",
    "current_time=now.strftime(\"%H:%M:%S\")\n",
    "current_date=now.strftime(\"%Y-%m-%d\")\n",
    "current_day=now.strftime('%A')\n",
    "\n",
    "dataset=pd.read_csv(\"C:\\\\Users\\\\sheka\\\\Downloads\\\\TimeTable.csv\")\n",
    "a=dataset.Day\n",
    "\n",
    "if current_time>=\"09:00:00\" and current_time<=\"09:50:00\":\n",
    "    x=dataset.one\n",
    "elif current_time>=\"10:00:00\" and current_time<=\"10:50:00\":\n",
    "    x=dataset.two\n",
    "elif current_time>=\"11:00:00\" and current_time<=\"11:50:00\":\n",
    "    x=dataset.three\n",
    "elif current_time>=\"13:00:00\" and current_time<=\"13:50:00\":\n",
    "    x=dataset.four\n",
    "elif current_time>=\"14:00:00\" and current_time<=\"14:50:00\":\n",
    "    x=dataset.five\n",
    "elif current_time>=\"15:00:00\" and current_time<=\"15:50:00\":\n",
    "    x=dataset.six\n",
    "elif current_time>=\"16:00:00\" and current_time<=\"16:50:00\":\n",
    "    x=dataset.seven\n",
    "\n",
    "\n",
    "for i in range(0,6):\n",
    "    if a[i]==current_day:\n",
    "        Subject=x[i]\n",
    "    \n",
    "\n",
    "\n",
    "current_time1=now.strftime(\"%H_%M_%S\")\n",
    "# Open the CSV file in write mode\n",
    "file=open(current_date+\"(\"+current_time1+\")\"'.csv', mode='w', newline='')\n",
    "writer = csv.writer(file, delimiter=':')\n",
    "# Load images and names of people to recognize\n",
    "path = \"C:\\\\Users\\\\sheka\\\\OneDrive\\\\Pictures\\\\photos\"\n",
    "images = []\n",
    "names = []\n",
    "\n",
    "image_files = os.listdir(path)\n",
    "for image_file in image_files:\n",
    "    image = face_recognition.load_image_file(os.path.join(path, image_file))\n",
    "    images.append(image)\n",
    "    names.append(os.path.splitext(image_file)[0])\n",
    "\n",
    "# Encode the faces in the images\n",
    "encodings = [face_recognition.face_encodings(image)[0] for image in images]\n",
    "\n",
    "# Initialize variables for attendance tracking\n",
    "attendance = {}\n",
    "for name in names:\n",
    "    attendance[name] = False\n",
    "\n",
    "# Initialize the camera\n",
    "video_capture = cv2.VideoCapture(0)\n",
    "\n",
    "while True:\n",
    "    # Capture a frame from the camera\n",
    "    ret, frame = video_capture.read()\n",
    "\n",
    "    # Convert the frame to RGB for face recognition\n",
    "    rgb_frame = frame[:, :, ::-1]\n",
    "\n",
    "    # Find all the faces in the frame\n",
    "    face_locations = face_recognition.face_locations(rgb_frame)\n",
    "    face_encodings = face_recognition.face_encodings(rgb_frame, face_locations)\n",
    "\n",
    "    # Iterate over each detected face\n",
    "    for face_encoding in face_encodings:\n",
    "        # Compare the face encoding to the known encodings\n",
    "        matches = face_recognition.compare_faces(encodings, face_encoding)\n",
    "        name = 'He/She does not Belongs To this class'\n",
    "\n",
    "        # Find the best match\n",
    "        if True in matches:\n",
    "            index = matches.index(True)\n",
    "            name = names[index]\n",
    "\n",
    "        # Update the attendance dictionary\n",
    "        if not attendance[name]:\n",
    "            attendance[name] = True\n",
    "            print(f'{name} is present at {datetime.now()}')\n",
    "            writer.writerow([name,'present',format(Subject),current_time])\n",
    "\n",
    "# Display the frame with attendance status\n",
    "    for name, present in attendance.items():\n",
    "        color = (0, 255, 0) if present else (0, 0, 255)\n",
    "        cv2.putText(frame, name, (40, 50 + 50 * names.index(name)), cv2.FONT_HERSHEY_SIMPLEX, 1, color, 2)\n",
    "        cv2.putText(frame,'Present' if present else 'Absent', (300, 50+ 50* names.index(name)), cv2.FONT_HERSHEY_SIMPLEX, 1, color, 2)\n",
    "        cv2.imshow('Automatic Attendance System', frame)\n",
    "\n",
    "    # Press 'q' to exit the program\n",
    "    if cv2.waitKey(1) & 0xFF == ord('q'):\n",
    "        break\n",
    "\n",
    "# Release the camera and close all windows\n",
    "video_capture.release()\n",
    "cv2.destroyAllWindows()\n",
    "file.close()\n"
   ]
  },
  {
   "cell_type": "code",
   "execution_count": 3,
   "id": "b4cd21f3",
   "metadata": {},
   "outputs": [
    {
     "name": "stdout",
     "output_type": "stream",
     "text": [
      "Note: you may need to restart the kernel to use updated packages.\n"
     ]
    },
    {
     "name": "stderr",
     "output_type": "stream",
     "text": [
      "ERROR: Could not find a version that satisfies the requirement cv2 (from versions: none)\n",
      "ERROR: No matching distribution found for cv2\n"
     ]
    }
   ],
   "source": [
    "pip install cv2"
   ]
  },
  {
   "cell_type": "code",
   "execution_count": null,
   "id": "de91c90a",
   "metadata": {},
   "outputs": [],
   "source": [
    "import calender"
   ]
  },
  {
   "cell_type": "code",
   "execution_count": null,
   "id": "9dcbe325",
   "metadata": {},
   "outputs": [],
   "source": []
  }
 ],
 "metadata": {
  "kernelspec": {
   "display_name": "Python 3 (ipykernel)",
   "language": "python",
   "name": "python3"
  },
  "language_info": {
   "codemirror_mode": {
    "name": "ipython",
    "version": 3
   },
   "file_extension": ".py",
   "mimetype": "text/x-python",
   "name": "python",
   "nbconvert_exporter": "python",
   "pygments_lexer": "ipython3",
   "version": "3.11.4"
  }
 },
 "nbformat": 4,
 "nbformat_minor": 5
}
